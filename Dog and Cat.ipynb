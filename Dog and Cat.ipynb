{
 "cells": [
  {
   "cell_type": "markdown",
   "metadata": {},
   "source": [
    "# Cats and Dog Classification\n",
    "In this data i have used functional api to predict if its a DOG or CAT."
   ]
  },
  {
   "cell_type": "markdown",
   "metadata": {},
   "source": [
    "### Importing Libraries and data from kaggle\n",
    "I have deleted my kaggle key just for security purpose"
   ]
  },
  {
   "cell_type": "code",
   "execution_count": 1,
   "metadata": {
    "id": "-2sgh61Q1aT4"
   },
   "outputs": [],
   "source": [
    "import os\n",
    "os.environ['KAGGLE_USERNAME']='maosama'\n",
    "os.environ['KAGGLE_KEY']=''"
   ]
  },
  {
   "cell_type": "code",
   "execution_count": 2,
   "metadata": {
    "colab": {
     "base_uri": "https://localhost:8080/"
    },
    "id": "ZZAWCZPh1yv4",
    "outputId": "4bcb2bc4-ebe3-43ca-e13d-22283cc493dd"
   },
   "outputs": [
    {
     "name": "stdout",
     "output_type": "stream",
     "text": [
      "Downloading microsoft-catsvsdogs-dataset.zip to /content\n",
      "100% 785M/788M [00:07<00:00, 96.4MB/s]\n",
      "100% 788M/788M [00:07<00:00, 109MB/s] \n"
     ]
    }
   ],
   "source": [
    "# The work was done on google collab so i directly download the data and unzipped it\n",
    "# i have hide the unzip process cause it is too big.\n",
    "! kaggle datasets download -d shaunthesheep/microsoft-catsvsdogs-dataset"
   ]
  },
  {
   "cell_type": "code",
   "execution_count": null,
   "metadata": {
    "id": "yrcQn0YV2JTI"
   },
   "outputs": [],
   "source": [
    "! unzip /content/microsoft-catsvsdogs-dataset.zip"
   ]
  },
  {
   "cell_type": "markdown",
   "metadata": {},
   "source": [
    "## Data Preprocessing"
   ]
  },
  {
   "cell_type": "code",
   "execution_count": 4,
   "metadata": {
    "colab": {
     "base_uri": "https://localhost:8080/"
    },
    "id": "vHQryAuR2Jew",
    "outputId": "29976a4b-162f-4ab8-e816-cdeff885a106"
   },
   "outputs": [
    {
     "data": {
      "text/plain": [
       "['Cat', 'Dog']"
      ]
     },
     "execution_count": 4,
     "metadata": {
      "tags": []
     },
     "output_type": "execute_result"
    }
   ],
   "source": [
    "data_dir = \"/content/PetImages/\"\n",
    "os.listdir(data_dir)"
   ]
  },
  {
   "cell_type": "code",
   "execution_count": 5,
   "metadata": {
    "id": "S-m-0BPr2Jix"
   },
   "outputs": [],
   "source": [
    "import cv2\n",
    "data_dir = \"/content/PetImages\"\n",
    "labels = [\"Cat\", \"Dog\"]\n",
    "x = []\n",
    "y = []\n",
    "for label in labels:\n",
    "    data = os.path.join(data_dir,label)\n",
    "    for image in os.listdir(data):\n",
    "        try:\n",
    "            im = cv2.imread(os.path.join(data,image),cv2.IMREAD_COLOR)\n",
    "            im = cv2.resize(im,(128,128))\n",
    "            # Using the Canny filter with different parameters\n",
    "            \n",
    "            x.append(im)\n",
    "            y.append(labels.index(label))\n",
    "            \n",
    "            \n",
    "        except Exception as e:\n",
    "            pass"
   ]
  },
  {
   "cell_type": "code",
   "execution_count": 6,
   "metadata": {
    "id": "ZXKW1M152Jk_"
   },
   "outputs": [],
   "source": [
    "import numpy as np\n",
    "np.unique(y)\n",
    "np.unique(x)\n",
    "\n",
    "x = np.array(x)\n",
    "x = x.reshape(-1, 128, 128, 3)"
   ]
  },
  {
   "cell_type": "code",
   "execution_count": 7,
   "metadata": {
    "id": "z_QxD375cQva"
   },
   "outputs": [],
   "source": [
    "from sklearn.model_selection import train_test_split   \n",
    "x_train, x_test, y_train, y_test = train_test_split(x, y)"
   ]
  },
  {
   "cell_type": "code",
   "execution_count": 8,
   "metadata": {
    "id": "a6_UUD504J7_"
   },
   "outputs": [],
   "source": [
    "num_labels = len(np.unique(y_train))\n",
    "\n",
    "num_labels       \n",
    "\n",
    "from tensorflow.keras.utils import to_categorical\n",
    "y_train = to_categorical(y_train) \n",
    "y_test = to_categorical(y_test)\n",
    "\n",
    "image_size = x_train.shape[1]\n",
    "\n",
    "x_train = np.reshape(x_train, [-1,image_size, image_size, 3]).astype(\"float32\")/255\n",
    "x_test = np.reshape(x_test, [-1,image_size, image_size, 3]).astype(\"float32\")/255\n",
    "\n",
    "input_shape = (image_size, image_size, 3)"
   ]
  },
  {
   "cell_type": "code",
   "execution_count": 9,
   "metadata": {
    "id": "KX-WzxFK4K_H"
   },
   "outputs": [],
   "source": [
    "# Network Parameter\n",
    "batch_size = 32 \n",
    "kernel_size = 7\n",
    "dropout = 0.3\n",
    "n_filters = 8"
   ]
  },
  {
   "cell_type": "markdown",
   "metadata": {},
   "source": [
    "## Functional API model building"
   ]
  },
  {
   "cell_type": "code",
   "execution_count": 10,
   "metadata": {
    "id": "groRa8jv4LBP"
   },
   "outputs": [],
   "source": [
    "# Left branch of Y network\n",
    "from tensorflow.keras.layers import Input, Conv2D, Flatten, Dense, concatenate, MaxPooling2D, Dropout\n",
    "left_inputs = Input(shape=input_shape)\n",
    "x1 = left_inputs\n",
    "filters = n_filters\n",
    "\n",
    "for i in range(3):\n",
    "    x1 = Conv2D(filters, kernel_size, padding=\"same\", activation=\"relu\")(x1)\n",
    "    x1 = Dropout(dropout)(x1)\n",
    "    x1 = MaxPooling2D()(x1)\n",
    "    filters *= 2"
   ]
  },
  {
   "cell_type": "code",
   "execution_count": 11,
   "metadata": {
    "id": "g4g4rvWL4LDZ"
   },
   "outputs": [],
   "source": [
    "# Right Branch y\n",
    "right_inputs = Input(shape = input_shape)\n",
    "y1 = right_inputs\n",
    "\n",
    "for i in range(3):\n",
    "    y1 =  Conv2D(filters, kernel_size, padding=\"same\", activation=\"relu\", dilation_rate=2)(y1)\n",
    "    y1 = Dropout(dropout)(y1)\n",
    "    y1 = MaxPooling2D()(y1)\n",
    "    filters *= 2"
   ]
  },
  {
   "cell_type": "code",
   "execution_count": 12,
   "metadata": {
    "id": "pC2mboX74VVn"
   },
   "outputs": [],
   "source": [
    "# Merge left and right branches output\n",
    "y2 = concatenate([x1,y1])\n",
    "\n",
    "# Feture map to vector before connecting to Dense\n",
    "y2 = Flatten()(y2)\n",
    "y2 = Dropout(dropout)(y2)\n",
    "\n",
    "outputs = Dense(2, activation=\"sigmoid\")(y2)"
   ]
  },
  {
   "cell_type": "code",
   "execution_count": 13,
   "metadata": {
    "colab": {
     "base_uri": "https://localhost:8080/"
    },
    "id": "TA23xPUe4VYA",
    "outputId": "6f3d8982-7d40-4f22-8b0d-71ebb367d0a2"
   },
   "outputs": [
    {
     "name": "stdout",
     "output_type": "stream",
     "text": [
      "Model: \"model\"\n",
      "__________________________________________________________________________________________________\n",
      "Layer (type)                    Output Shape         Param #     Connected to                     \n",
      "==================================================================================================\n",
      "input_1 (InputLayer)            [(None, 128, 128, 3) 0                                            \n",
      "__________________________________________________________________________________________________\n",
      "input_2 (InputLayer)            [(None, 128, 128, 3) 0                                            \n",
      "__________________________________________________________________________________________________\n",
      "conv2d (Conv2D)                 (None, 128, 128, 8)  1184        input_1[0][0]                    \n",
      "__________________________________________________________________________________________________\n",
      "conv2d_3 (Conv2D)               (None, 128, 128, 64) 9472        input_2[0][0]                    \n",
      "__________________________________________________________________________________________________\n",
      "dropout (Dropout)               (None, 128, 128, 8)  0           conv2d[0][0]                     \n",
      "__________________________________________________________________________________________________\n",
      "dropout_3 (Dropout)             (None, 128, 128, 64) 0           conv2d_3[0][0]                   \n",
      "__________________________________________________________________________________________________\n",
      "max_pooling2d (MaxPooling2D)    (None, 64, 64, 8)    0           dropout[0][0]                    \n",
      "__________________________________________________________________________________________________\n",
      "max_pooling2d_3 (MaxPooling2D)  (None, 64, 64, 64)   0           dropout_3[0][0]                  \n",
      "__________________________________________________________________________________________________\n",
      "conv2d_1 (Conv2D)               (None, 64, 64, 16)   6288        max_pooling2d[0][0]              \n",
      "__________________________________________________________________________________________________\n",
      "conv2d_4 (Conv2D)               (None, 64, 64, 128)  401536      max_pooling2d_3[0][0]            \n",
      "__________________________________________________________________________________________________\n",
      "dropout_1 (Dropout)             (None, 64, 64, 16)   0           conv2d_1[0][0]                   \n",
      "__________________________________________________________________________________________________\n",
      "dropout_4 (Dropout)             (None, 64, 64, 128)  0           conv2d_4[0][0]                   \n",
      "__________________________________________________________________________________________________\n",
      "max_pooling2d_1 (MaxPooling2D)  (None, 32, 32, 16)   0           dropout_1[0][0]                  \n",
      "__________________________________________________________________________________________________\n",
      "max_pooling2d_4 (MaxPooling2D)  (None, 32, 32, 128)  0           dropout_4[0][0]                  \n",
      "__________________________________________________________________________________________________\n",
      "conv2d_2 (Conv2D)               (None, 32, 32, 32)   25120       max_pooling2d_1[0][0]            \n",
      "__________________________________________________________________________________________________\n",
      "conv2d_5 (Conv2D)               (None, 32, 32, 256)  1605888     max_pooling2d_4[0][0]            \n",
      "__________________________________________________________________________________________________\n",
      "dropout_2 (Dropout)             (None, 32, 32, 32)   0           conv2d_2[0][0]                   \n",
      "__________________________________________________________________________________________________\n",
      "dropout_5 (Dropout)             (None, 32, 32, 256)  0           conv2d_5[0][0]                   \n",
      "__________________________________________________________________________________________________\n",
      "max_pooling2d_2 (MaxPooling2D)  (None, 16, 16, 32)   0           dropout_2[0][0]                  \n",
      "__________________________________________________________________________________________________\n",
      "max_pooling2d_5 (MaxPooling2D)  (None, 16, 16, 256)  0           dropout_5[0][0]                  \n",
      "__________________________________________________________________________________________________\n",
      "concatenate (Concatenate)       (None, 16, 16, 288)  0           max_pooling2d_2[0][0]            \n",
      "                                                                 max_pooling2d_5[0][0]            \n",
      "__________________________________________________________________________________________________\n",
      "flatten (Flatten)               (None, 73728)        0           concatenate[0][0]                \n",
      "__________________________________________________________________________________________________\n",
      "dropout_6 (Dropout)             (None, 73728)        0           flatten[0][0]                    \n",
      "__________________________________________________________________________________________________\n",
      "dense (Dense)                   (None, 2)            147458      dropout_6[0][0]                  \n",
      "==================================================================================================\n",
      "Total params: 2,196,946\n",
      "Trainable params: 2,196,946\n",
      "Non-trainable params: 0\n",
      "__________________________________________________________________________________________________\n"
     ]
    }
   ],
   "source": [
    "# Now turn the model in functional to train\n",
    "from tensorflow.keras.models import Model\n",
    "\n",
    "model = Model([left_inputs, right_inputs], outputs)\n",
    "model.summary()\n",
    "\n",
    "model.compile(optimizer=\"adam\", loss=\"binary_crossentropy\", metrics=[\"accuracy\"])"
   ]
  },
  {
   "cell_type": "code",
   "execution_count": 14,
   "metadata": {
    "colab": {
     "base_uri": "https://localhost:8080/"
    },
    "id": "KWdf_qR54VaA",
    "outputId": "598a655e-46b5-4ae0-9f23-f22d6403fd46"
   },
   "outputs": [
    {
     "name": "stdout",
     "output_type": "stream",
     "text": [
      "Epoch 1/20\n",
      "585/585 [==============================] - 124s 154ms/step - loss: 0.6971 - accuracy: 0.5727 - val_loss: 0.6180 - val_accuracy: 0.6726\n",
      "Epoch 2/20\n",
      "585/585 [==============================] - 89s 152ms/step - loss: 0.5803 - accuracy: 0.6967 - val_loss: 0.5882 - val_accuracy: 0.6902\n",
      "Epoch 3/20\n",
      "585/585 [==============================] - 89s 152ms/step - loss: 0.5020 - accuracy: 0.7592 - val_loss: 0.5238 - val_accuracy: 0.7563\n",
      "Epoch 4/20\n",
      "585/585 [==============================] - 89s 151ms/step - loss: 0.4506 - accuracy: 0.7903 - val_loss: 0.5151 - val_accuracy: 0.7425\n",
      "Epoch 5/20\n",
      "585/585 [==============================] - 89s 151ms/step - loss: 0.4303 - accuracy: 0.7988 - val_loss: 0.4669 - val_accuracy: 0.7775\n",
      "Epoch 6/20\n",
      "585/585 [==============================] - 88s 151ms/step - loss: 0.3932 - accuracy: 0.8198 - val_loss: 0.4439 - val_accuracy: 0.8065\n",
      "Epoch 7/20\n",
      "585/585 [==============================] - 88s 151ms/step - loss: 0.3802 - accuracy: 0.8241 - val_loss: 0.4323 - val_accuracy: 0.8143\n",
      "Epoch 8/20\n",
      "585/585 [==============================] - 88s 151ms/step - loss: 0.3680 - accuracy: 0.8336 - val_loss: 0.4168 - val_accuracy: 0.8131\n",
      "Epoch 9/20\n",
      "585/585 [==============================] - 88s 151ms/step - loss: 0.3434 - accuracy: 0.8476 - val_loss: 0.4100 - val_accuracy: 0.8233\n",
      "Epoch 10/20\n",
      "585/585 [==============================] - 89s 151ms/step - loss: 0.3332 - accuracy: 0.8529 - val_loss: 0.4169 - val_accuracy: 0.8135\n",
      "Epoch 11/20\n",
      "585/585 [==============================] - 88s 151ms/step - loss: 0.3234 - accuracy: 0.8570 - val_loss: 0.3930 - val_accuracy: 0.8268\n",
      "Epoch 12/20\n",
      "585/585 [==============================] - 88s 151ms/step - loss: 0.3001 - accuracy: 0.8709 - val_loss: 0.4225 - val_accuracy: 0.8007\n",
      "Epoch 13/20\n",
      "585/585 [==============================] - 89s 151ms/step - loss: 0.2917 - accuracy: 0.8775 - val_loss: 0.3986 - val_accuracy: 0.8161\n",
      "Epoch 14/20\n",
      "585/585 [==============================] - 88s 151ms/step - loss: 0.2823 - accuracy: 0.8814 - val_loss: 0.4031 - val_accuracy: 0.8113\n",
      "Epoch 15/20\n",
      "585/585 [==============================] - 88s 151ms/step - loss: 0.2764 - accuracy: 0.8813 - val_loss: 0.3803 - val_accuracy: 0.8296\n",
      "Epoch 16/20\n",
      "585/585 [==============================] - 88s 151ms/step - loss: 0.2647 - accuracy: 0.8891 - val_loss: 0.3718 - val_accuracy: 0.8387\n",
      "Epoch 17/20\n",
      "585/585 [==============================] - 88s 151ms/step - loss: 0.2448 - accuracy: 0.8988 - val_loss: 0.4084 - val_accuracy: 0.8102\n",
      "Epoch 18/20\n",
      "585/585 [==============================] - 88s 151ms/step - loss: 0.2580 - accuracy: 0.8917 - val_loss: 0.3899 - val_accuracy: 0.8203\n",
      "Epoch 19/20\n",
      "585/585 [==============================] - 88s 151ms/step - loss: 0.2682 - accuracy: 0.8854 - val_loss: 0.4076 - val_accuracy: 0.8122\n",
      "Epoch 20/20\n",
      "585/585 [==============================] - 88s 151ms/step - loss: 0.2451 - accuracy: 0.8928 - val_loss: 0.4037 - val_accuracy: 0.8116\n"
     ]
    },
    {
     "data": {
      "text/plain": [
       "<tensorflow.python.keras.callbacks.History at 0x7f2dd030bcd0>"
      ]
     },
     "execution_count": 14,
     "metadata": {
      "tags": []
     },
     "output_type": "execute_result"
    }
   ],
   "source": [
    "# Train the model\n",
    "model.fit([x_train, x_train],y_train, validation_data=([x_test, x_test], y_test), epochs=20,\n",
    "          batch_size = batch_size)"
   ]
  },
  {
   "cell_type": "markdown",
   "metadata": {},
   "source": [
    "## As you can see the accuracy and val accuracy is 89 and 81.\n",
    "## I had the higher expectation but i guess data was not complex enough to be used in Functional api."
   ]
  }
 ],
 "metadata": {
  "accelerator": "GPU",
  "colab": {
   "collapsed_sections": [],
   "name": "Untitled4.ipynb",
   "provenance": []
  },
  "kernelspec": {
   "display_name": "Python 3",
   "language": "python",
   "name": "python3"
  },
  "language_info": {
   "codemirror_mode": {
    "name": "ipython",
    "version": 3
   },
   "file_extension": ".py",
   "mimetype": "text/x-python",
   "name": "python",
   "nbconvert_exporter": "python",
   "pygments_lexer": "ipython3",
   "version": "3.8.5"
  }
 },
 "nbformat": 4,
 "nbformat_minor": 1
}

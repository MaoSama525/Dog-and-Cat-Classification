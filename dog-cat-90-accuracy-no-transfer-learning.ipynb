{
 "cells": [
  {
   "cell_type": "markdown",
   "metadata": {},
   "source": [
    "## This is my kaggle work so importing is different here\n",
    "In this data i merged MLP and CNN lets see how it worked."
   ]
  },
  {
   "cell_type": "markdown",
   "metadata": {},
   "source": [
    "### Importing and Data Processing"
   ]
  },
  {
   "cell_type": "code",
   "execution_count": 2,
   "metadata": {
    "_cell_guid": "c2a601b8-90a1-42ff-a2a2-7ca774211116",
    "_uuid": "b78169a9-4dfe-449a-8fe6-9990126b4186"
   },
   "outputs": [
    {
     "name": "stdout",
     "output_type": "stream",
     "text": [
      "['dogs', 'cats']\n",
      "['dogs', 'cats']\n"
     ]
    }
   ],
   "source": [
    "import os\n",
    "\n",
    "train_path = \"../input/cat-and-dog/training_set/training_set/\"\n",
    "test_path = \"../input/cat-and-dog/test_set/test_set/\"\n",
    "\n",
    "print(os.listdir(train_path))\n",
    "print(os.listdir(test_path))"
   ]
  },
  {
   "cell_type": "code",
   "execution_count": 3,
   "metadata": {},
   "outputs": [
    {
     "name": "stdout",
     "output_type": "stream",
     "text": [
      "Found 8005 images belonging to 2 classes.\n",
      "Found 2023 images belonging to 2 classes.\n"
     ]
    }
   ],
   "source": [
    "from tensorflow.keras.preprocessing.image import ImageDataGenerator\n",
    "\n",
    "train_gen = ImageDataGenerator(rescale=1./255, zoom_range = 0.2,\n",
    "                               rotation_range=40, horizontal_flip= True)\n",
    "\n",
    "test_gen = ImageDataGenerator(rescale=1./255)\n",
    "\n",
    "train = train_gen.flow_from_directory(train_path, target_size=(224,224),\n",
    "                                      batch_size=32, class_mode = \"binary\")\n",
    "\n",
    "test = test_gen.flow_from_directory(test_path, target_size=(224,224),\n",
    "                                      batch_size=32, class_mode = \"binary\")"
   ]
  },
  {
   "cell_type": "markdown",
   "metadata": {},
   "source": [
    "## Building and merging both MLP and CNN."
   ]
  },
  {
   "cell_type": "code",
   "execution_count": 4,
   "metadata": {},
   "outputs": [],
   "source": [
    "from tensorflow.keras.models import Sequential\n",
    "model = Sequential()\n",
    "\n",
    "from tensorflow.keras.layers import Dense, Conv2D, MaxPooling2D, Flatten\n",
    "from tensorflow.keras.optimizers import Adam\n",
    "\n",
    "model.add(Conv2D(32, (3,3), padding=\"SAME\", activation=\"relu\", input_shape = (224,224,3)))\n",
    "model.add(MaxPooling2D(pool_size=(2,2)))\n",
    "\n",
    "model.add(Conv2D(64, (3,3), padding=\"SAME\", activation=\"relu\", input_shape = (224,224,3)))\n",
    "model.add(MaxPooling2D(pool_size=(2,2)))\n",
    "\n",
    "model.add(Conv2D(64, (3,3), padding=\"SAME\", activation=\"relu\", input_shape = (224,224,3)))\n",
    "model.add(MaxPooling2D(pool_size=(2,2)))\n",
    "\n",
    "model.add(Conv2D(128, (3,3), padding=\"SAME\", activation=\"relu\", input_shape = (224,224,3)))\n",
    "model.add(MaxPooling2D(pool_size=(2,2)))\n",
    "\n",
    "\n",
    "model.add(Flatten())\n",
    "\n",
    "model.add(Dense(512, activation=\"relu\"))\n",
    "\n",
    "model.add(Dense(1, activation=\"sigmoid\"))\n",
    "\n",
    "model.compile(Adam(lr=0.001), loss = \"binary_crossentropy\", metrics=\"accuracy\")"
   ]
  },
  {
   "cell_type": "code",
   "execution_count": 5,
   "metadata": {},
   "outputs": [
    {
     "name": "stdout",
     "output_type": "stream",
     "text": [
      "Epoch 1/50\n",
      "251/251 [==============================] - 174s 679ms/step - loss: 0.7014 - accuracy: 0.5124 - val_loss: 0.6526 - val_accuracy: 0.5877\n",
      "Epoch 2/50\n",
      "251/251 [==============================] - 109s 434ms/step - loss: 0.6624 - accuracy: 0.5812 - val_loss: 0.5922 - val_accuracy: 0.6876\n",
      "Epoch 3/50\n",
      "251/251 [==============================] - 109s 433ms/step - loss: 0.6159 - accuracy: 0.6608 - val_loss: 0.5639 - val_accuracy: 0.7242\n",
      "Epoch 4/50\n",
      "251/251 [==============================] - 109s 434ms/step - loss: 0.5544 - accuracy: 0.7113 - val_loss: 0.5482 - val_accuracy: 0.7113\n",
      "Epoch 5/50\n",
      "251/251 [==============================] - 108s 431ms/step - loss: 0.5295 - accuracy: 0.7380 - val_loss: 0.5011 - val_accuracy: 0.7469\n",
      "Epoch 6/50\n",
      "251/251 [==============================] - 115s 458ms/step - loss: 0.5000 - accuracy: 0.7560 - val_loss: 0.4979 - val_accuracy: 0.7642\n",
      "Epoch 7/50\n",
      "251/251 [==============================] - 109s 435ms/step - loss: 0.4678 - accuracy: 0.7776 - val_loss: 0.4579 - val_accuracy: 0.7746\n",
      "Epoch 8/50\n",
      "251/251 [==============================] - 109s 434ms/step - loss: 0.4511 - accuracy: 0.7883 - val_loss: 0.4563 - val_accuracy: 0.7790\n",
      "Epoch 9/50\n",
      "251/251 [==============================] - 110s 437ms/step - loss: 0.4382 - accuracy: 0.7955 - val_loss: 0.4400 - val_accuracy: 0.7909\n",
      "Epoch 10/50\n",
      "251/251 [==============================] - 110s 437ms/step - loss: 0.4285 - accuracy: 0.8050 - val_loss: 0.3974 - val_accuracy: 0.8220\n",
      "Epoch 11/50\n",
      "251/251 [==============================] - 110s 439ms/step - loss: 0.4209 - accuracy: 0.8102 - val_loss: 0.4175 - val_accuracy: 0.8072\n",
      "Epoch 12/50\n",
      "251/251 [==============================] - 110s 439ms/step - loss: 0.3914 - accuracy: 0.8223 - val_loss: 0.4238 - val_accuracy: 0.8112\n",
      "Epoch 13/50\n",
      "251/251 [==============================] - 110s 437ms/step - loss: 0.3771 - accuracy: 0.8266 - val_loss: 0.3704 - val_accuracy: 0.8374\n",
      "Epoch 14/50\n",
      "251/251 [==============================] - 110s 437ms/step - loss: 0.3661 - accuracy: 0.8433 - val_loss: 0.3520 - val_accuracy: 0.8517\n",
      "Epoch 15/50\n",
      "251/251 [==============================] - 110s 438ms/step - loss: 0.3578 - accuracy: 0.8440 - val_loss: 0.3798 - val_accuracy: 0.8309\n",
      "Epoch 16/50\n",
      "251/251 [==============================] - 108s 431ms/step - loss: 0.3489 - accuracy: 0.8396 - val_loss: 0.4010 - val_accuracy: 0.8240\n",
      "Epoch 17/50\n",
      "251/251 [==============================] - 108s 429ms/step - loss: 0.3511 - accuracy: 0.8428 - val_loss: 0.3324 - val_accuracy: 0.8616\n",
      "Epoch 18/50\n",
      "251/251 [==============================] - 112s 447ms/step - loss: 0.3165 - accuracy: 0.8547 - val_loss: 0.3520 - val_accuracy: 0.8566\n",
      "Epoch 19/50\n",
      "251/251 [==============================] - 108s 431ms/step - loss: 0.3349 - accuracy: 0.8534 - val_loss: 0.3459 - val_accuracy: 0.8522\n",
      "Epoch 20/50\n",
      "251/251 [==============================] - 108s 431ms/step - loss: 0.3004 - accuracy: 0.8757 - val_loss: 0.3367 - val_accuracy: 0.8547\n",
      "Epoch 21/50\n",
      "251/251 [==============================] - 108s 432ms/step - loss: 0.2879 - accuracy: 0.8826 - val_loss: 0.3760 - val_accuracy: 0.8418\n",
      "Epoch 22/50\n",
      "251/251 [==============================] - 108s 430ms/step - loss: 0.3022 - accuracy: 0.8642 - val_loss: 0.3413 - val_accuracy: 0.8586\n",
      "Epoch 23/50\n",
      "251/251 [==============================] - 118s 469ms/step - loss: 0.2775 - accuracy: 0.8809 - val_loss: 0.3274 - val_accuracy: 0.8675\n",
      "Epoch 24/50\n",
      "251/251 [==============================] - 110s 438ms/step - loss: 0.2787 - accuracy: 0.8780 - val_loss: 0.3074 - val_accuracy: 0.8670\n",
      "Epoch 25/50\n",
      "251/251 [==============================] - 116s 461ms/step - loss: 0.2613 - accuracy: 0.8869 - val_loss: 0.3066 - val_accuracy: 0.8754\n",
      "Epoch 26/50\n",
      "251/251 [==============================] - 116s 461ms/step - loss: 0.2592 - accuracy: 0.8893 - val_loss: 0.3070 - val_accuracy: 0.8715\n",
      "Epoch 27/50\n",
      "251/251 [==============================] - 111s 442ms/step - loss: 0.2546 - accuracy: 0.8859 - val_loss: 0.3263 - val_accuracy: 0.8744\n",
      "Epoch 28/50\n",
      "251/251 [==============================] - 110s 437ms/step - loss: 0.2443 - accuracy: 0.8985 - val_loss: 0.3050 - val_accuracy: 0.8769\n",
      "Epoch 29/50\n",
      "251/251 [==============================] - 110s 438ms/step - loss: 0.2239 - accuracy: 0.9053 - val_loss: 0.2968 - val_accuracy: 0.8730\n",
      "Epoch 30/50\n",
      "251/251 [==============================] - 108s 432ms/step - loss: 0.2235 - accuracy: 0.9036 - val_loss: 0.3109 - val_accuracy: 0.8715\n",
      "Epoch 31/50\n",
      "251/251 [==============================] - 109s 435ms/step - loss: 0.2223 - accuracy: 0.9059 - val_loss: 0.3062 - val_accuracy: 0.8680\n",
      "Epoch 32/50\n",
      "251/251 [==============================] - 108s 430ms/step - loss: 0.2197 - accuracy: 0.9113 - val_loss: 0.3643 - val_accuracy: 0.8651\n",
      "Epoch 33/50\n",
      "251/251 [==============================] - 111s 442ms/step - loss: 0.2288 - accuracy: 0.9054 - val_loss: 0.2932 - val_accuracy: 0.8853\n",
      "Epoch 34/50\n",
      "251/251 [==============================] - 110s 437ms/step - loss: 0.2085 - accuracy: 0.9150 - val_loss: 0.4413 - val_accuracy: 0.8146\n",
      "Epoch 35/50\n",
      "251/251 [==============================] - 110s 436ms/step - loss: 0.2234 - accuracy: 0.9022 - val_loss: 0.3002 - val_accuracy: 0.8814\n",
      "Epoch 36/50\n",
      "251/251 [==============================] - 109s 436ms/step - loss: 0.1928 - accuracy: 0.9190 - val_loss: 0.3111 - val_accuracy: 0.8824\n",
      "Epoch 37/50\n",
      "251/251 [==============================] - 109s 434ms/step - loss: 0.2014 - accuracy: 0.9196 - val_loss: 0.2758 - val_accuracy: 0.8927\n",
      "Epoch 38/50\n",
      "251/251 [==============================] - 109s 432ms/step - loss: 0.1745 - accuracy: 0.9319 - val_loss: 0.2805 - val_accuracy: 0.8962\n",
      "Epoch 39/50\n",
      "251/251 [==============================] - 109s 432ms/step - loss: 0.1778 - accuracy: 0.9288 - val_loss: 0.2919 - val_accuracy: 0.8927\n",
      "Epoch 40/50\n",
      "251/251 [==============================] - 109s 436ms/step - loss: 0.1703 - accuracy: 0.9326 - val_loss: 0.3020 - val_accuracy: 0.8962\n",
      "Epoch 41/50\n",
      "251/251 [==============================] - 112s 448ms/step - loss: 0.1814 - accuracy: 0.9259 - val_loss: 0.3329 - val_accuracy: 0.8769\n",
      "Epoch 42/50\n",
      "251/251 [==============================] - 130s 517ms/step - loss: 0.1688 - accuracy: 0.9285 - val_loss: 0.3146 - val_accuracy: 0.8819\n",
      "Epoch 43/50\n",
      "251/251 [==============================] - 109s 436ms/step - loss: 0.1823 - accuracy: 0.9234 - val_loss: 0.2615 - val_accuracy: 0.9016\n",
      "Epoch 44/50\n",
      "251/251 [==============================] - 108s 430ms/step - loss: 0.1450 - accuracy: 0.9388 - val_loss: 0.3362 - val_accuracy: 0.8819\n",
      "Epoch 45/50\n",
      "251/251 [==============================] - 109s 433ms/step - loss: 0.1545 - accuracy: 0.9333 - val_loss: 0.2757 - val_accuracy: 0.8992\n",
      "Epoch 46/50\n",
      "251/251 [==============================] - 112s 447ms/step - loss: 0.1572 - accuracy: 0.9371 - val_loss: 0.2918 - val_accuracy: 0.9006\n",
      "Epoch 47/50\n",
      "251/251 [==============================] - 108s 430ms/step - loss: 0.1462 - accuracy: 0.9444 - val_loss: 0.3051 - val_accuracy: 0.8952\n",
      "Epoch 48/50\n",
      "251/251 [==============================] - 111s 441ms/step - loss: 0.1395 - accuracy: 0.9444 - val_loss: 0.2895 - val_accuracy: 0.8937\n",
      "Epoch 49/50\n",
      "251/251 [==============================] - 109s 435ms/step - loss: 0.1512 - accuracy: 0.9408 - val_loss: 0.3185 - val_accuracy: 0.8997\n",
      "Epoch 50/50\n",
      "251/251 [==============================] - 109s 434ms/step - loss: 0.1473 - accuracy: 0.9436 - val_loss: 0.2765 - val_accuracy: 0.9001\n"
     ]
    },
    {
     "data": {
      "image/png": "[encoded data removed]",
      "text/plain": [
       "<Figure size 432x288 with 1 Axes>"
      ]
     },
     "metadata": {
      "needs_background": "light"
     },
     "output_type": "display_data"
    }
   ],
   "source": [
    "# Training\n",
    "from tensorflow.keras.callbacks import EarlyStopping\n",
    "early = EarlyStopping(monitor = \"val_loss\", patience = 2)\n",
    "\n",
    "model.fit(train, epochs=50, validation_data=test, callbacks=[early])"
   ]
  },
  {
   "cell_type": "markdown",
   "metadata": {},
   "source": [
    "As you can see difference between loss and val_loss is getting higher it is because i setted patience to 20 but\n",
    "if i changed it to 5 and reduce the layers it will fix that difference."
   ]
  },
  {
   "cell_type": "code",
   "execution_count": 6,
   "metadata": {},
   "outputs": [
    {
     "name": "stdout",
     "output_type": "stream",
     "text": [
      "dog\n"
     ]
    }
   ],
   "source": [
    "# Making single prediction\n",
    "import numpy as np\n",
    "from keras.preprocessing import image\n",
    "test_image = image.load_img(\"../input/cat-and-dog/test_set/test_set/dogs/dog.4004.jpg\", target_size = (224, 224))\n",
    "test_image = image.img_to_array(test_image)\n",
    "test_image = np.expand_dims(test_image, axis = 0)\n",
    "result = model.predict(test_image)\n",
    "train.class_indices\n",
    "if result[0][0] == 1:\n",
    "    prediction = 'dog'\n",
    "else:\n",
    "    prediction = 'cat'\n",
    "print(prediction)"
   ]
  }
 ],
 "metadata": {
  "kernelspec": {
   "display_name": "Python 3",
   "language": "python",
   "name": "python3"
  },
  "language_info": {
   "codemirror_mode": {
    "name": "ipython",
    "version": 3
   },
   "file_extension": ".py",
   "mimetype": "text/x-python",
   "name": "python",
   "nbconvert_exporter": "python",
   "pygments_lexer": "ipython3",
   "version": "3.8.5"
  }
 },
 "nbformat": 4,
 "nbformat_minor": 4
}
